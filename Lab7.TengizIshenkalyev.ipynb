{
 "cells": [
  {
   "cell_type": "code",
   "execution_count": 1,
   "metadata": {},
   "outputs": [],
   "source": [
    "import pandas as pd\n",
    "import numpy as np\n",
    "from sklearn.feature_extraction.text import CountVectorizer, TfidfVectorizer\n",
    "from sklearn.decomposition import LatentDirichletAllocation\n",
    "from sklearn.pipeline import Pipeline\n",
    "import matplotlib.pyplot as plt\n",
    "import seaborn as sns\n"
   ]
  },
  {
   "cell_type": "code",
   "execution_count": 2,
   "metadata": {},
   "outputs": [
    {
     "name": "stdout",
     "output_type": "stream",
     "text": [
      "Слова в словаре: ['acting' 'amazing' 'boring' 'disliked' 'experience' 'fantastic' 'film'\n",
      " 'good' 'gripping' 'it' 'loved' 'movie' 'performances' 'plot'\n",
      " 'predictable' 'script' 'storyline' 'terrible' 'thrilling' 'time' 'watch'\n",
      " 'weak' 'wonderful' 'worth']\n",
      "Матрица 'мешка слов':\n",
      " [[0 0 0 0 0 1 0 0 0 1 1 1 0 0 0 0 0 0 1 0 0 0 0 0]\n",
      " [0 0 0 1 0 0 1 1 0 0 0 0 0 0 0 0 1 0 0 0 0 0 0 0]\n",
      " [1 1 0 0 0 0 0 0 1 0 0 0 0 1 0 0 0 0 0 0 0 0 0 0]\n",
      " [0 0 1 0 0 0 0 0 0 0 0 0 0 0 1 0 0 0 0 1 0 0 0 1]\n",
      " [0 0 0 0 1 0 0 0 0 1 0 1 0 0 0 0 0 0 0 0 1 0 1 0]\n",
      " [0 0 0 0 0 0 0 0 0 0 0 0 1 0 0 1 0 1 0 0 0 1 0 0]]\n"
     ]
    }
   ],
   "source": [
    "corpus = [\n",
    "    \"I loved the movie. It was fantastic and thrilling!\",\n",
    "    \"The film was not good, I disliked the storyline.\",\n",
    "    \"Amazing acting and a gripping plot.\",\n",
    "    \"Boring and predictable. Not worth my time.\",\n",
    "    \"It was a wonderful experience to watch this movie.\",\n",
    "    \"Terrible script and weak performances.\"\n",
    "]\n",
    "\n",
    "stop_words = [\"and\", \"the\", \"was\", \"not\", \"my\", \"to\", \"this\"]\n",
    "\n",
    "vectorizer = CountVectorizer(stop_words=stop_words)\n",
    "X_bow = vectorizer.fit_transform(corpus)\n",
    "\n",
    "print(\"Слова в словаре:\", vectorizer.get_feature_names_out())\n",
    "print(\"Матрица 'мешка слов':\\n\", X_bow.toarray())\n"
   ]
  },
  {
   "cell_type": "code",
   "execution_count": 3,
   "metadata": {},
   "outputs": [
    {
     "name": "stdout",
     "output_type": "stream",
     "text": [
      "Слова в словаре TF-IDF: ['acting' 'amazing' 'boring' 'disliked' 'experience' 'fantastic' 'film'\n",
      " 'good' 'gripping' 'it' 'loved' 'movie' 'performances' 'plot'\n",
      " 'predictable' 'script' 'storyline' 'terrible' 'thrilling' 'time' 'watch'\n",
      " 'weak' 'wonderful' 'worth']\n",
      "Матрица TF-IDF:\n",
      " [[0.         0.         0.         0.         0.         0.47974754\n",
      "  0.         0.         0.         0.39339985 0.47974754 0.39339985\n",
      "  0.         0.         0.         0.         0.         0.\n",
      "  0.47974754 0.         0.         0.         0.         0.        ]\n",
      " [0.         0.         0.         0.5        0.         0.\n",
      "  0.5        0.5        0.         0.         0.         0.\n",
      "  0.         0.         0.         0.         0.5        0.\n",
      "  0.         0.         0.         0.         0.         0.        ]\n",
      " [0.5        0.5        0.         0.         0.         0.\n",
      "  0.         0.         0.5        0.         0.         0.\n",
      "  0.         0.5        0.         0.         0.         0.\n",
      "  0.         0.         0.         0.         0.         0.        ]\n",
      " [0.         0.         0.5        0.         0.         0.\n",
      "  0.         0.         0.         0.         0.         0.\n",
      "  0.         0.         0.5        0.         0.         0.\n",
      "  0.         0.5        0.         0.         0.         0.5       ]\n",
      " [0.         0.         0.         0.         0.47974754 0.\n",
      "  0.         0.         0.         0.39339985 0.         0.39339985\n",
      "  0.         0.         0.         0.         0.         0.\n",
      "  0.         0.         0.47974754 0.         0.47974754 0.        ]\n",
      " [0.         0.         0.         0.         0.         0.\n",
      "  0.         0.         0.         0.         0.         0.\n",
      "  0.5        0.         0.         0.5        0.         0.5\n",
      "  0.         0.         0.         0.5        0.         0.        ]]\n"
     ]
    }
   ],
   "source": [
    "tfidf_vectorizer = TfidfVectorizer(stop_words=stop_words)\n",
    "X_tfidf = tfidf_vectorizer.fit_transform(corpus)\n",
    "\n",
    "print(\"Слова в словаре TF-IDF:\", tfidf_vectorizer.get_feature_names_out())\n",
    "print(\"Матрица TF-IDF:\\n\", X_tfidf.toarray())\n"
   ]
  },
  {
   "cell_type": "code",
   "execution_count": 4,
   "metadata": {},
   "outputs": [
    {
     "name": "stdout",
     "output_type": "stream",
     "text": [
      "Тема #1:\n",
      "acting plot amazing gripping watch\n",
      "Тема #2:\n",
      "fantastic loved thrilling it movie\n",
      "Тема #3:\n",
      "predictable worth boring time weak\n"
     ]
    }
   ],
   "source": [
    "lda = LatentDirichletAllocation(n_components=3, max_iter=10, random_state=42)\n",
    "lda.fit(X_tfidf)\n",
    "\n",
    "n_top_words = 5\n",
    "feature_names = tfidf_vectorizer.get_feature_names_out()\n",
    "for topic_idx, topic in enumerate(lda.components_):\n",
    "    print(f\"Тема #{topic_idx + 1}:\")\n",
    "    print(\" \".join([feature_names[i] for i in topic.argsort()[:-n_top_words - 1:-1]]))\n"
   ]
  },
  {
   "cell_type": "code",
   "execution_count": 5,
   "metadata": {},
   "outputs": [
    {
     "name": "stdout",
     "output_type": "stream",
     "text": [
      "N-граммы: ['acting' 'acting gripping' 'acting gripping plot' 'amazing'\n",
      " 'amazing acting' 'amazing acting gripping' 'boring' 'boring predictable'\n",
      " 'boring predictable worth' 'disliked' 'disliked storyline' 'experience'\n",
      " 'experience watch' 'experience watch movie' 'fantastic'\n",
      " 'fantastic thrilling' 'film' 'film good' 'film good disliked' 'good'\n",
      " 'good disliked' 'good disliked storyline' 'gripping' 'gripping plot' 'it'\n",
      " 'it fantastic' 'it fantastic thrilling' 'it wonderful'\n",
      " 'it wonderful experience' 'loved' 'loved movie' 'loved movie it' 'movie'\n",
      " 'movie it' 'movie it fantastic' 'performances' 'plot' 'predictable'\n",
      " 'predictable worth' 'predictable worth time' 'script' 'script weak'\n",
      " 'script weak performances' 'storyline' 'terrible' 'terrible script'\n",
      " 'terrible script weak' 'thrilling' 'time' 'watch' 'watch movie' 'weak'\n",
      " 'weak performances' 'wonderful' 'wonderful experience'\n",
      " 'wonderful experience watch' 'worth' 'worth time']\n",
      "Матрица N-грамм:\n",
      " [[0.         0.         0.         0.         0.         0.\n",
      "  0.         0.         0.         0.         0.         0.\n",
      "  0.         0.         0.29689349 0.29689349 0.         0.\n",
      "  0.         0.         0.         0.         0.         0.\n",
      "  0.24345691 0.29689349 0.29689349 0.         0.         0.29689349\n",
      "  0.29689349 0.29689349 0.24345691 0.29689349 0.29689349 0.\n",
      "  0.         0.         0.         0.         0.         0.\n",
      "  0.         0.         0.         0.         0.         0.29689349\n",
      "  0.         0.         0.         0.         0.         0.\n",
      "  0.         0.         0.         0.        ]\n",
      " [0.         0.         0.         0.         0.         0.\n",
      "  0.         0.         0.         0.33333333 0.33333333 0.\n",
      "  0.         0.         0.         0.         0.33333333 0.33333333\n",
      "  0.33333333 0.33333333 0.33333333 0.33333333 0.         0.\n",
      "  0.         0.         0.         0.         0.         0.\n",
      "  0.         0.         0.         0.         0.         0.\n",
      "  0.         0.         0.         0.         0.         0.\n",
      "  0.         0.33333333 0.         0.         0.         0.\n",
      "  0.         0.         0.         0.         0.         0.\n",
      "  0.         0.         0.         0.        ]\n",
      " [0.33333333 0.33333333 0.33333333 0.33333333 0.33333333 0.33333333\n",
      "  0.         0.         0.         0.         0.         0.\n",
      "  0.         0.         0.         0.         0.         0.\n",
      "  0.         0.         0.         0.         0.33333333 0.33333333\n",
      "  0.         0.         0.         0.         0.         0.\n",
      "  0.         0.         0.         0.         0.         0.\n",
      "  0.33333333 0.         0.         0.         0.         0.\n",
      "  0.         0.         0.         0.         0.         0.\n",
      "  0.         0.         0.         0.         0.         0.\n",
      "  0.         0.         0.         0.        ]\n",
      " [0.         0.         0.         0.         0.         0.\n",
      "  0.33333333 0.33333333 0.33333333 0.         0.         0.\n",
      "  0.         0.         0.         0.         0.         0.\n",
      "  0.         0.         0.         0.         0.         0.\n",
      "  0.         0.         0.         0.         0.         0.\n",
      "  0.         0.         0.         0.         0.         0.\n",
      "  0.         0.33333333 0.33333333 0.33333333 0.         0.\n",
      "  0.         0.         0.         0.         0.         0.\n",
      "  0.33333333 0.         0.         0.         0.         0.\n",
      "  0.         0.         0.33333333 0.33333333]\n",
      " [0.         0.         0.         0.         0.         0.\n",
      "  0.         0.         0.         0.         0.         0.29689349\n",
      "  0.29689349 0.29689349 0.         0.         0.         0.\n",
      "  0.         0.         0.         0.         0.         0.\n",
      "  0.24345691 0.         0.         0.29689349 0.29689349 0.\n",
      "  0.         0.         0.24345691 0.         0.         0.\n",
      "  0.         0.         0.         0.         0.         0.\n",
      "  0.         0.         0.         0.         0.         0.\n",
      "  0.         0.29689349 0.29689349 0.         0.         0.29689349\n",
      "  0.29689349 0.29689349 0.         0.        ]\n",
      " [0.         0.         0.         0.         0.         0.\n",
      "  0.         0.         0.         0.         0.         0.\n",
      "  0.         0.         0.         0.         0.         0.\n",
      "  0.         0.         0.         0.         0.         0.\n",
      "  0.         0.         0.         0.         0.         0.\n",
      "  0.         0.         0.         0.         0.         0.33333333\n",
      "  0.         0.         0.         0.         0.33333333 0.33333333\n",
      "  0.33333333 0.         0.33333333 0.33333333 0.33333333 0.\n",
      "  0.         0.         0.         0.33333333 0.33333333 0.\n",
      "  0.         0.         0.         0.        ]]\n"
     ]
    }
   ],
   "source": [
    "ngram_vectorizer = TfidfVectorizer(stop_words=stop_words, ngram_range=(1, 3))\n",
    "X_ngram = ngram_vectorizer.fit_transform(corpus)\n",
    "\n",
    "print(\"N-граммы:\", ngram_vectorizer.get_feature_names_out())\n",
    "print(\"Матрица N-грамм:\\n\", X_ngram.toarray())\n"
   ]
  },
  {
   "cell_type": "code",
   "execution_count": 6,
   "metadata": {},
   "outputs": [
    {
     "data": {
      "image/png": "[encoded data removed]",
      "text/plain": [
       "<Figure size 640x480 with 2 Axes>"
      ]
     },
     "metadata": {},
     "output_type": "display_data"
    }
   ],
   "source": [
    "document_topics = lda.transform(X_tfidf)\n",
    "sns.heatmap(document_topics, annot=True, fmt=\".2f\", cmap=\"coolwarm\")\n",
    "plt.title(\"Распределение тем для документов\")\n",
    "plt.xlabel(\"Темы\")\n",
    "plt.ylabel(\"Документы\")\n",
    "plt.show()\n"
   ]
  },
  {
   "cell_type": "markdown",
   "metadata": {},
   "source": [
    "   Выводы по работе\n",
    "1. \"Мешок слов\" позволяет представить текстовые данные в виде числовой матрицы частот слов, но игнорирует порядок слов.\n",
    "2. TF-IDF масштабирует частоты, подчеркивая уникальные слова для конкретного документа.\n",
    "3. LDA эффективно группирует документы по темам, но интерпретация тем может быть субъективной.\n",
    "4. Использование n-грамм добавляет контекст, позволяя учитывать порядок слов и их комбинации.\n",
    "5. Итоговые результаты демонстрируют, что применение различных методов может существенно улучшить анализ текстовых данных.\n"
   ]
  }
 ],
 "metadata": {
  "kernelspec": {
   "display_name": "new_env",
   "language": "python",
   "name": "python3"
  },
  "language_info": {
   "codemirror_mode": {
    "name": "ipython",
    "version": 3
   },
   "file_extension": ".py",
   "mimetype": "text/x-python",
   "name": "python",
   "nbconvert_exporter": "python",
   "pygments_lexer": "ipython3",
   "version": "3.13.1"
  }
 },
 "nbformat": 4,
 "nbformat_minor": 2
}

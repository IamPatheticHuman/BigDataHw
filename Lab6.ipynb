{
 "cells": [
  {
   "cell_type": "code",
   "execution_count": 22,
   "metadata": {},
   "outputs": [],
   "source": [
    "import pandas as pd\n",
    "import numpy as np\n",
    "from sklearn.model_selection import train_test_split, cross_val_score, GridSearchCV\n",
    "from sklearn.ensemble import RandomForestClassifier\n",
    "from sklearn.metrics import classification_report, accuracy_score\n",
    "import random\n"
   ]
  },
  {
   "cell_type": "code",
   "execution_count": 23,
   "metadata": {},
   "outputs": [
    {
     "data": {
      "text/html": [
       "<div>\n",
       "<style scoped>\n",
       "    .dataframe tbody tr th:only-of-type {\n",
       "        vertical-align: middle;\n",
       "    }\n",
       "\n",
       "    .dataframe tbody tr th {\n",
       "        vertical-align: top;\n",
       "    }\n",
       "\n",
       "    .dataframe thead th {\n",
       "        text-align: right;\n",
       "    }\n",
       "</style>\n",
       "<table border=\"1\" class=\"dataframe\">\n",
       "  <thead>\n",
       "    <tr style=\"text-align: right;\">\n",
       "      <th></th>\n",
       "      <th>salary</th>\n",
       "      <th>city</th>\n",
       "      <th>age</th>\n",
       "      <th>vacation_prefer</th>\n",
       "      <th>transport_prefer</th>\n",
       "      <th>target</th>\n",
       "    </tr>\n",
       "  </thead>\n",
       "  <tbody>\n",
       "    <tr>\n",
       "      <th>0</th>\n",
       "      <td>113810</td>\n",
       "      <td>Osh</td>\n",
       "      <td>63</td>\n",
       "      <td>Cultural tour</td>\n",
       "      <td>plane</td>\n",
       "      <td>London</td>\n",
       "    </tr>\n",
       "    <tr>\n",
       "      <th>1</th>\n",
       "      <td>44592</td>\n",
       "      <td>Bishkek</td>\n",
       "      <td>22</td>\n",
       "      <td>Beach holiday</td>\n",
       "      <td>auto</td>\n",
       "      <td>Dubai</td>\n",
       "    </tr>\n",
       "    <tr>\n",
       "      <th>2</th>\n",
       "      <td>33278</td>\n",
       "      <td>Osh</td>\n",
       "      <td>53</td>\n",
       "      <td>Shopping</td>\n",
       "      <td>plane</td>\n",
       "      <td>Dubai</td>\n",
       "    </tr>\n",
       "    <tr>\n",
       "      <th>3</th>\n",
       "      <td>127196</td>\n",
       "      <td>Bishkek</td>\n",
       "      <td>52</td>\n",
       "      <td>Cultural tour</td>\n",
       "      <td>auto</td>\n",
       "      <td>Dubai</td>\n",
       "    </tr>\n",
       "    <tr>\n",
       "      <th>4</th>\n",
       "      <td>66048</td>\n",
       "      <td>Almaty</td>\n",
       "      <td>36</td>\n",
       "      <td>Beach holiday</td>\n",
       "      <td>train</td>\n",
       "      <td>Dubai</td>\n",
       "    </tr>\n",
       "  </tbody>\n",
       "</table>\n",
       "</div>"
      ],
      "text/plain": [
       "   salary     city  age vacation_prefer transport_prefer  target\n",
       "0  113810      Osh   63   Cultural tour            plane  London\n",
       "1   44592  Bishkek   22   Beach holiday             auto   Dubai\n",
       "2   33278      Osh   53        Shopping            plane   Dubai\n",
       "3  127196  Bishkek   52   Cultural tour             auto   Dubai\n",
       "4   66048   Almaty   36   Beach holiday            train   Dubai"
      ]
     },
     "execution_count": 23,
     "metadata": {},
     "output_type": "execute_result"
    }
   ],
   "source": [
    "n_samples = 1000\n",
    "random.seed(42)\n",
    "\n",
    "data = {\n",
    "    \"salary\": [random.randint(30000, 150000) for _ in range(n_samples)],\n",
    "    \"city\": [random.choice([\"Bishkek\", \"Osh\", \"Almaty\", \"Astana\"]) for _ in range(n_samples)],\n",
    "    \"age\": [random.randint(18, 65) for _ in range(n_samples)],\n",
    "    \"vacation_prefer\": [random.choice([\"Shopping\", \"Beach holiday\", \"Cultural tour\"]) for _ in range(n_samples)],\n",
    "    \"transport_prefer\": [random.choice([\"auto\", \"plane\", \"train\"]) for _ in range(n_samples)],\n",
    "    \"target\": [random.choice([\"London\", \"Moscow\", \"Dubai\", \"New York\"]) for _ in range(n_samples)],\n",
    "}\n",
    "\n",
    "df = pd.DataFrame(data)\n",
    "\n",
    "df.head()\n"
   ]
  },
  {
   "cell_type": "code",
   "execution_count": 24,
   "metadata": {},
   "outputs": [
    {
     "name": "stdout",
     "output_type": "stream",
     "text": [
      "   salary  age  city_Almaty  city_Astana  city_Bishkek  city_Osh  \\\n",
      "0  113810   63        False        False         False      True   \n",
      "1   44592   22        False        False          True     False   \n",
      "2   33278   53        False        False         False      True   \n",
      "3  127196   52        False        False          True     False   \n",
      "4   66048   36         True        False         False     False   \n",
      "\n",
      "   vacation_prefer_Beach holiday  vacation_prefer_Cultural tour  \\\n",
      "0                          False                           True   \n",
      "1                           True                          False   \n",
      "2                          False                          False   \n",
      "3                          False                           True   \n",
      "4                           True                          False   \n",
      "\n",
      "   vacation_prefer_Shopping  transport_prefer_auto  transport_prefer_plane  \\\n",
      "0                     False                  False                    True   \n",
      "1                     False                   True                   False   \n",
      "2                      True                  False                    True   \n",
      "3                     False                   True                   False   \n",
      "4                     False                  False                   False   \n",
      "\n",
      "   transport_prefer_train  \n",
      "0                   False  \n",
      "1                   False  \n",
      "2                   False  \n",
      "3                   False  \n",
      "4                    True  \n",
      "0    target_London\n",
      "1     target_Dubai\n",
      "2     target_Dubai\n",
      "3     target_Dubai\n",
      "4     target_Dubai\n",
      "dtype: object\n"
     ]
    }
   ],
   "source": [
    "df_encoded = pd.get_dummies(df, columns=[\"city\", \"vacation_prefer\", \"transport_prefer\", \"target\"])\n",
    "\n",
    "X = df_encoded.drop(columns=[\"target_London\", \"target_Moscow\", \"target_Dubai\", \"target_New York\"])\n",
    "y = df_encoded[[\"target_London\", \"target_Moscow\", \"target_Dubai\", \"target_New York\"]].idxmax(axis=1)\n",
    "\n",
    "print(X.head())\n",
    "print(y.head())\n"
   ]
  },
  {
   "cell_type": "code",
   "execution_count": 25,
   "metadata": {},
   "outputs": [
    {
     "name": "stdout",
     "output_type": "stream",
     "text": [
      "Размер обучающей выборки: (800, 12), Размер тестовой выборки: (200, 12)\n"
     ]
    }
   ],
   "source": [
    "X_train, X_test, y_train, y_test = train_test_split(X, y, test_size=0.2, random_state=42)\n",
    "\n",
    "print(f\"Размер обучающей выборки: {X_train.shape}, Размер тестовой выборки: {X_test.shape}\")\n"
   ]
  },
  {
   "cell_type": "code",
   "execution_count": 26,
   "metadata": {},
   "outputs": [
    {
     "name": "stdout",
     "output_type": "stream",
     "text": [
      "Средняя правильность перекрестной проверки: 0.24\n"
     ]
    }
   ],
   "source": [
    "clf = RandomForestClassifier(random_state=42)\n",
    "\n",
    "cv_scores = cross_val_score(clf, X_train, y_train, cv=5)\n",
    "print(f\"Средняя правильность перекрестной проверки: {np.mean(cv_scores):.2f}\")\n"
   ]
  },
  {
   "cell_type": "code",
   "execution_count": 27,
   "metadata": {},
   "outputs": [
    {
     "name": "stdout",
     "output_type": "stream",
     "text": [
      "Лучшие параметры: {'max_depth': 10, 'min_samples_split': 5, 'n_estimators': 100}\n",
      "Лучшая правильность перекрестной проверки: 0.25\n"
     ]
    }
   ],
   "source": [
    "param_grid = {\n",
    "    \"n_estimators\": [50, 100, 150],\n",
    "    \"max_depth\": [10, 20, None],\n",
    "    \"min_samples_split\": [2, 5, 10],\n",
    "}\n",
    "\n",
    "grid_search = GridSearchCV(clf, param_grid, cv=5, scoring=\"accuracy\", n_jobs=-1)\n",
    "grid_search.fit(X_train, y_train)\n",
    "\n",
    "print(f\"Лучшие параметры: {grid_search.best_params_}\")\n",
    "print(f\"Лучшая правильность перекрестной проверки: {grid_search.best_score_:.2f}\")\n"
   ]
  },
  {
   "cell_type": "code",
   "execution_count": 28,
   "metadata": {},
   "outputs": [
    {
     "name": "stdout",
     "output_type": "stream",
     "text": [
      "Отчет классификации:\n",
      "                 precision    recall  f1-score   support\n",
      "\n",
      "   target_Dubai       0.18      0.20      0.19        50\n",
      "  target_London       0.25      0.23      0.24        47\n",
      "  target_Moscow       0.27      0.32      0.29        50\n",
      "target_New York       0.24      0.19      0.21        53\n",
      "\n",
      "       accuracy                           0.23       200\n",
      "      macro avg       0.24      0.24      0.23       200\n",
      "   weighted avg       0.24      0.23      0.23       200\n",
      "\n"
     ]
    }
   ],
   "source": [
    "best_model = grid_search.best_estimator_\n",
    "y_pred = best_model.predict(X_test)\n",
    "\n",
    "print(\"Отчет классификации:\")\n",
    "print(classification_report(y_test, y_pred))\n"
   ]
  },
  {
   "cell_type": "code",
   "execution_count": 29,
   "metadata": {},
   "outputs": [
    {
     "name": "stdout",
     "output_type": "stream",
     "text": [
      "Случайный пример:      salary  age  city_Almaty  city_Astana  city_Bishkek  city_Osh  \\\n",
      "436  107924   49        False        False         False      True   \n",
      "\n",
      "     vacation_prefer_Beach holiday  vacation_prefer_Cultural tour  \\\n",
      "436                          False                          False   \n",
      "\n",
      "     vacation_prefer_Shopping  transport_prefer_auto  transport_prefer_plane  \\\n",
      "436                      True                  False                    True   \n",
      "\n",
      "     transport_prefer_train  \n",
      "436                   False  \n",
      "Предсказание для случайного примера: ['target_Dubai']\n"
     ]
    }
   ],
   "source": [
    "random_sample = X_test.sample(1, random_state=42)\n",
    "predicted_target = best_model.predict(random_sample)\n",
    "\n",
    "print(f\"Случайный пример: {random_sample}\")\n",
    "print(f\"Предсказание для случайного примера: {predicted_target}\")\n"
   ]
  }
 ],
 "metadata": {
  "kernelspec": {
   "display_name": "new_env",
   "language": "python",
   "name": "python3"
  },
  "language_info": {
   "codemirror_mode": {
    "name": "ipython",
    "version": 3
   },
   "file_extension": ".py",
   "mimetype": "text/x-python",
   "name": "python",
   "nbconvert_exporter": "python",
   "pygments_lexer": "ipython3",
   "version": "3.13.0"
  }
 },
 "nbformat": 4,
 "nbformat_minor": 2
}

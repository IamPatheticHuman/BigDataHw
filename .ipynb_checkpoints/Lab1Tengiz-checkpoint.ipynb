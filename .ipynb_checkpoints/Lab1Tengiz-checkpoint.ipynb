{
 "cells": [
  {
   "cell_type": "markdown",
   "metadata": {},
   "source": [
    "# Лабораторная работа 1\n",
    "\n",
    "\n",
    "## Описание\n",
    "\n",
    "В этом репозитории находятся материалы и код, связанные с лабораторной работой 1.\n",
    "\n",
    "## Автор\n",
    "Ишенкалыев Тенгиз"
   ]
  },
  {
   "cell_type": "markdown",
   "metadata": {},
   "source": [
    "### Hello world "
   ]
  },
  {
   "cell_type": "code",
   "execution_count": 1,
   "metadata": {},
   "outputs": [
    {
     "name": "stdout",
     "output_type": "stream",
     "text": [
      "Hello world\n"
     ]
    }
   ],
   "source": [
    "print(\"Hello world\")"
   ]
  },
  {
   "cell_type": "markdown",
   "metadata": {},
   "source": [
    "## Variables\n"
   ]
  },
  {
   "cell_type": "code",
   "execution_count": 2,
   "metadata": {},
   "outputs": [
    {
     "name": "stdout",
     "output_type": "stream",
     "text": [
      "<class 'int'>\n",
      "Value is 12\n"
     ]
    }
   ],
   "source": [
    "integer = 12\n",
    "print(type(integer))\n",
    "print(\"Value is\", integer)"
   ]
  },
  {
   "cell_type": "markdown",
   "metadata": {},
   "source": [
    "## Advance Variables"
   ]
  },
  {
   "cell_type": "code",
   "execution_count": 2,
   "metadata": {},
   "outputs": [
    {
     "name": "stdout",
     "output_type": "stream",
     "text": [
      "Изменённый список: [10, 20, 30, 40, 50, 60]\n",
      "Значение по ключу 'name': Bob\n",
      "Кортеж: ('grape', 'orange', 'mango')\n"
     ]
    }
   ],
   "source": [
    "\n",
    "my_dict = {\"name\": \"Bob\", \"age\": 25, \"city\": \"San Francisco\"}\n",
    "my_list = [10, 20, 30, 40, 50]\n",
    "my_tuple = (\"grape\", \"orange\", \"mango\")\n",
    "my_list.append(60)\n",
    "print(\"Изменённый список:\", my_list)\n",
    "name_value = my_dict.get(\"name\")\n",
    "print(\"Значение по ключу 'name':\", name_value)\n",
    "print(\"Кортеж:\", my_tuple)\n",
    "\n"
   ]
  },
  {
   "cell_type": "markdown",
   "metadata": {},
   "source": [
    "## Math Operations"
   ]
  },
  {
   "cell_type": "code",
   "execution_count": 3,
   "metadata": {},
   "outputs": [
    {
     "name": "stdout",
     "output_type": "stream",
     "text": [
      "Пример возведения в степень 32.0\n",
      "Name: Tengiz, Age: 10, City: DA\n"
     ]
    }
   ],
   "source": [
    "import math\n",
    "powerOF = math.pow(2,5)\n",
    "print(\"Пример возведения в степень\",powerOF)\n",
    "\n",
    "name = \"Tengiz\"\n",
    "age = 100\n",
    "city = \"Torobattl\"\n",
    "\n",
    "print(\"Name: %s, Age: %d, City: %s\" % (name, age, city))\n",
    "\n"
   ]
  },
  {
   "cell_type": "markdown",
   "metadata": {},
   "source": [
    "## Conditions "
   ]
  },
  {
   "cell_type": "code",
   "execution_count": 4,
   "metadata": {},
   "outputs": [
    {
     "name": "stdout",
     "output_type": "stream",
     "text": [
      "Not equal\n"
     ]
    }
   ],
   "source": [
    "first_v = 1\n",
    "second_v = 3\n",
    "if first_v == second_v:\n",
    "    print(\"Equal\")\n",
    "elif first_v > second_v:\n",
    "    print(\"First variable is greater\")\n",
    "else:\n",
    "    print(\"Not equal\")\n"
   ]
  },
  {
   "cell_type": "markdown",
   "metadata": {},
   "source": [
    "## Loops"
   ]
  },
  {
   "cell_type": "code",
   "execution_count": 5,
   "metadata": {},
   "outputs": [
    {
     "name": "stdout",
     "output_type": "stream",
     "text": [
      "0  -is iteration number 'For Loop'\n",
      "1  -is iteration number 'For Loop'\n",
      "2  -is iteration number 'For Loop'\n",
      "3  -is iteration number 'For Loop'\n",
      "4  -is iteration number 'For Loop'\n",
      "5  -is iteration number 'For Loop'\n",
      "6  -is iteration number 'For Loop'\n",
      "7  -is iteration number 'For Loop'\n",
      "8  -is iteration number 'For Loop'\n",
      "9  -is iteration number 'For Loop'\n",
      "that's all for \"For\" loop\n",
      "2 \"Whle loop\" iteration number\n",
      "4 \"Whle loop\" iteration number\n",
      "6 \"Whle loop\" iteration number\n",
      "8 \"Whle loop\" iteration number\n",
      "10 \"Whle loop\" iteration number\n",
      "that's all for while loop\n"
     ]
    }
   ],
   "source": [
    "for i in range(10):\n",
    "    print(i, \" -is iteration number \\'For Loop\\'\")\n",
    "else:\n",
    "    print(\"that's all for \\\"For\\\" loop\")\n",
    "\n",
    "the_v = 0\n",
    "while the_v < 10:\n",
    "    the_v +=2\n",
    "    print(the_v, \"\\\"Whle loop\\\" iteration number\")\n",
    "else:\n",
    "    print(\"that's all for while loop\")"
   ]
  },
  {
   "cell_type": "markdown",
   "metadata": {},
   "source": [
    "<h4> Functions <h4>"
   ]
  },
  {
   "cell_type": "code",
   "execution_count": 7,
   "metadata": {},
   "outputs": [],
   "source": [
    "def minus3(x):\n",
    "    x -=3\n",
    "    return  x"
   ]
  },
  {
   "cell_type": "code",
   "execution_count": 8,
   "metadata": {},
   "outputs": [
    {
     "data": {
      "text/plain": [
       "0"
      ]
     },
     "execution_count": 8,
     "metadata": {},
     "output_type": "execute_result"
    }
   ],
   "source": [
    "variable_func = 3\n",
    "minus3(3)"
   ]
  },
  {
   "cell_type": "markdown",
   "metadata": {},
   "source": [
    "<h4> Lambdas <h3>"
   ]
  },
  {
   "cell_type": "code",
   "execution_count": 9,
   "metadata": {},
   "outputs": [
    {
     "name": "stdout",
     "output_type": "stream",
     "text": [
      "0\n",
      "3\n"
     ]
    }
   ],
   "source": [
    "x = lambda a : a - 3\n",
    "print(x(3))\n",
    "\n",
    "lambda_func = lambda sth : sth + sth - 3 + 2\n",
    "print(lambda_func(2))"
   ]
  },
  {
   "cell_type": "markdown",
   "metadata": {},
   "source": [
    "<h4> Image <h4>"
   ]
  },
  {
   "cell_type": "markdown",
   "metadata": {},
   "source": [
    "<img src = \"https://assets.coingecko.com/coins/images/35941/large/cmc.png?1710233160\">"
   ]
  },
  {
   "cell_type": "markdown",
   "metadata": {},
   "source": [
    "<h4> Commands and formules<h4>"
   ]
  },
  {
   "cell_type": "markdown",
   "metadata": {},
   "source": [
    "\n",
    "\n",
    "$$\n",
    "dS \\geq \\frac{\\delta Q}{T}\n",
    "$$\n"
   ]
  },
  {
   "cell_type": "code",
   "execution_count": 25,
   "metadata": {
    "vscode": {
     "languageId": "powershell"
    }
   },
   "outputs": [
    {
     "name": "stdout",
     "output_type": "stream",
     "text": [
      "PING gachimuchi.com (118.27.125.204): 56 data bytes\n",
      "64 bytes from 118.27.125.204: icmp_seq=0 ttl=44 time=402.717 ms\n",
      "64 bytes from 118.27.125.204: icmp_seq=1 ttl=44 time=420.251 ms\n",
      "64 bytes from 118.27.125.204: icmp_seq=2 ttl=44 time=439.083 ms\n",
      "64 bytes from 118.27.125.204: icmp_seq=3 ttl=44 time=367.819 ms\n",
      "64 bytes from 118.27.125.204: icmp_seq=4 ttl=44 time=376.160 ms\n",
      "\n",
      "--- gachimuchi.com ping statistics ---\n",
      "5 packets transmitted, 5 packets received, 0.0% packet loss\n",
      "round-trip min/avg/max/stddev = 367.819/401.206/439.083/26.614 ms\n"
     ]
    }
   ],
   "source": [
    "!ping -c 5 gachimuchi.com\n",
    "\n"
   ]
  },
  {
   "cell_type": "code",
   "execution_count": 18,
   "metadata": {
    "vscode": {
     "languageId": "bat"
    }
   },
   "outputs": [
    {
     "name": "stdout",
     "output_type": "stream",
     "text": [
      "lo0: flags=8049<UP,LOOPBACK,RUNNING,MULTICAST> mtu 16384\n",
      "\toptions=1203<RXCSUM,TXCSUM,TXSTATUS,SW_TIMESTAMP>\n",
      "\tinet 127.0.0.1 netmask 0xff000000\n",
      "\tinet6 ::1 prefixlen 128 \n",
      "\tinet6 fe80::1%lo0 prefixlen 64 scopeid 0x1 \n",
      "\tnd6 options=201<PERFORMNUD,DAD>\n",
      "gif0: flags=8010<POINTOPOINT,MULTICAST> mtu 1280\n",
      "stf0: flags=0<> mtu 1280\n",
      "anpi1: flags=8863<UP,BROADCAST,SMART,RUNNING,SIMPLEX,MULTICAST> mtu 1500\n",
      "\toptions=400<CHANNEL_IO>\n",
      "\tether 8e:0b:92:a6:4e:67\n",
      "\tmedia: none\n",
      "\tstatus: inactive\n",
      "anpi0: flags=8863<UP,BROADCAST,SMART,RUNNING,SIMPLEX,MULTICAST> mtu 1500\n",
      "\toptions=400<CHANNEL_IO>\n",
      "\tether 8e:0b:92:a6:4e:66\n",
      "\tmedia: none\n",
      "\tstatus: inactive\n",
      "en3: flags=8863<UP,BROADCAST,SMART,RUNNING,SIMPLEX,MULTICAST> mtu 1500\n",
      "\toptions=400<CHANNEL_IO>\n",
      "\tether 8e:0b:92:a6:4e:46\n",
      "\tnd6 options=201<PERFORMNUD,DAD>\n",
      "\tmedia: none\n",
      "\tstatus: inactive\n",
      "en4: flags=8863<UP,BROADCAST,SMART,RUNNING,SIMPLEX,MULTICAST> mtu 1500\n",
      "\toptions=400<CHANNEL_IO>\n",
      "\tether 8e:0b:92:a6:4e:47\n",
      "\tnd6 options=201<PERFORMNUD,DAD>\n",
      "\tmedia: none\n",
      "\tstatus: inactive\n",
      "en1: flags=8963<UP,BROADCAST,SMART,RUNNING,PROMISC,SIMPLEX,MULTICAST> mtu 1500\n",
      "\toptions=460<TSO4,TSO6,CHANNEL_IO>\n",
      "\tether 36:f5:0a:71:fa:40\n",
      "\tmedia: autoselect <full-duplex>\n",
      "\tstatus: inactive\n",
      "en2: flags=8963<UP,BROADCAST,SMART,RUNNING,PROMISC,SIMPLEX,MULTICAST> mtu 1500\n",
      "\toptions=460<TSO4,TSO6,CHANNEL_IO>\n",
      "\tether 36:f5:0a:71:fa:44\n",
      "\tmedia: autoselect <full-duplex>\n",
      "\tstatus: inactive\n",
      "bridge0: flags=8863<UP,BROADCAST,SMART,RUNNING,SIMPLEX,MULTICAST> mtu 1500\n",
      "\toptions=63<RXCSUM,TXCSUM,TSO4,TSO6>\n",
      "\tether 36:f5:0a:71:fa:40\n",
      "\tConfiguration:\n",
      "\t\tid 0:0:0:0:0:0 priority 0 hellotime 0 fwddelay 0\n",
      "\t\tmaxage 0 holdcnt 0 proto stp maxaddr 100 timeout 1200\n",
      "\t\troot id 0:0:0:0:0:0 priority 0 ifcost 0 port 0\n",
      "\t\tipfilter disabled flags 0x0\n",
      "\tmember: en1 flags=3<LEARNING,DISCOVER>\n",
      "\t        ifmaxaddr 0 port 8 priority 0 path cost 0\n",
      "\tmember: en2 flags=3<LEARNING,DISCOVER>\n",
      "\t        ifmaxaddr 0 port 9 priority 0 path cost 0\n",
      "\tnd6 options=201<PERFORMNUD,DAD>\n",
      "\tmedia: <unknown type>\n",
      "\tstatus: inactive\n",
      "ap1: flags=8843<UP,BROADCAST,RUNNING,SIMPLEX,MULTICAST> mtu 1500\n",
      "\toptions=6460<TSO4,TSO6,CHANNEL_IO,PARTIAL_CSUM,ZEROINVERT_CSUM>\n",
      "\tether 3e:91:80:cf:6e:68\n",
      "\tinet6 fe80::3c91:80ff:fecf:6e68%ap1 prefixlen 64 scopeid 0xb \n",
      "\tnd6 options=201<PERFORMNUD,DAD>\n",
      "\tmedia: autoselect (<unknown type>)\n",
      "\tstatus: inactive\n",
      "en0: flags=8863<UP,BROADCAST,SMART,RUNNING,SIMPLEX,MULTICAST> mtu 1500\n",
      "\toptions=6460<TSO4,TSO6,CHANNEL_IO,PARTIAL_CSUM,ZEROINVERT_CSUM>\n",
      "\tether 1c:91:80:cf:6e:68\n",
      "\tinet6 fe80::82:3322:a9bd:f409%en0 prefixlen 64 secured scopeid 0xc \n",
      "\tinet 192.168.0.103 netmask 0xffffff00 broadcast 192.168.0.255\n",
      "\tnd6 options=201<PERFORMNUD,DAD>\n",
      "\tmedia: autoselect\n",
      "\tstatus: active\n",
      "awdl0: flags=8843<UP,BROADCAST,RUNNING,SIMPLEX,MULTICAST> mtu 1500\n",
      "\toptions=6460<TSO4,TSO6,CHANNEL_IO,PARTIAL_CSUM,ZEROINVERT_CSUM>\n",
      "\tether ce:cb:81:5c:21:a5\n",
      "\tinet6 fe80::cccb:81ff:fe5c:21a5%awdl0 prefixlen 64 scopeid 0xd \n",
      "\tnd6 options=201<PERFORMNUD,DAD>\n",
      "\tmedia: autoselect\n",
      "\tstatus: active\n",
      "llw0: flags=8863<UP,BROADCAST,SMART,RUNNING,SIMPLEX,MULTICAST> mtu 1500\n",
      "\toptions=400<CHANNEL_IO>\n",
      "\tether ce:cb:81:5c:21:a5\n",
      "\tinet6 fe80::cccb:81ff:fe5c:21a5%llw0 prefixlen 64 scopeid 0xe \n",
      "\tnd6 options=201<PERFORMNUD,DAD>\n",
      "\tmedia: autoselect\n",
      "\tstatus: inactive\n",
      "utun0: flags=8051<UP,POINTOPOINT,RUNNING,MULTICAST> mtu 1500\n",
      "\tinet6 fe80::d722:9d6c:b292:d05f%utun0 prefixlen 64 scopeid 0xf \n",
      "\tnd6 options=201<PERFORMNUD,DAD>\n",
      "utun1: flags=8051<UP,POINTOPOINT,RUNNING,MULTICAST> mtu 2000\n",
      "\tinet6 fe80::a1a1:c74b:f781:6b6f%utun1 prefixlen 64 scopeid 0x10 \n",
      "\tnd6 options=201<PERFORMNUD,DAD>\n",
      "utun2: flags=8051<UP,POINTOPOINT,RUNNING,MULTICAST> mtu 1000\n",
      "\tinet6 fe80::ce81:b1c:bd2c:69e%utun2 prefixlen 64 scopeid 0x11 \n",
      "\tnd6 options=201<PERFORMNUD,DAD>\n",
      "utun3: flags=8051<UP,POINTOPOINT,RUNNING,MULTICAST> mtu 1380\n",
      "\tinet6 fe80::a9e6:39df:47ce:dbd0%utun3 prefixlen 64 scopeid 0x12 \n",
      "\tnd6 options=201<PERFORMNUD,DAD>\n",
      "utun4: flags=8051<UP,POINTOPOINT,RUNNING,MULTICAST> mtu 1380\n",
      "\tinet6 fe80::d732:aeb5:f85a:c8b%utun4 prefixlen 64 scopeid 0x13 \n",
      "\tnd6 options=201<PERFORMNUD,DAD>\n"
     ]
    }
   ],
   "source": [
    "!ifconfig"
   ]
  },
  {
   "cell_type": "markdown",
   "metadata": {},
   "source": [
    "<h2><strong>Tasks<strong><h2>"
   ]
  },
  {
   "cell_type": "markdown",
   "metadata": {},
   "source": [
    "$$\n",
    "f = \\frac{9\\pi t + 10 \\cos(x)}{\\sqrt{t} - \\sin(x)} \\cdot e^{-2t}\n",
    "$$\n"
   ]
  },
  {
   "cell_type": "code",
   "execution_count": 12,
   "metadata": {},
   "outputs": [
    {
     "name": "stdout",
     "output_type": "stream",
     "text": [
      "Результат f(t, x): 2.895289048911311\n"
     ]
    }
   ],
   "source": [
    "import math\n",
    "\n",
    "def f(t, x):\n",
    "    up_one = 9 * math.pi * t + 10 * math.cos(x)\n",
    "    down_one = math.sqrt(t) - math.sin(x)\n",
    "    return (up_one / down_one) * pow(math.e, -2 * t)\n",
    "\n",
    "\n",
    "t = 1 \n",
    "x = 3  \n",
    "\n",
    "result = f(t, x)\n",
    "print(\"Результат f(t, x):\", result)\n"
   ]
  },
  {
   "cell_type": "markdown",
   "metadata": {},
   "source": [
    "<h4>3 Numbers<h4>"
   ]
  },
  {
   "cell_type": "code",
   "execution_count": 13,
   "metadata": {},
   "outputs": [
    {
     "name": "stdout",
     "output_type": "stream",
     "text": [
      "[11, 12, 3] Generated Numbers\n",
      "[] Final list after filtration\n"
     ]
    }
   ],
   "source": [
    "import random\n",
    "list_numbers = []\n",
    "list_of_borders = [5, 11]\n",
    "final_list = []\n",
    "for i in range(3):\n",
    "    a = random.randint(0,12)\n",
    "    list_numbers.append(a)\n",
    "\n",
    "for i in list_numbers:\n",
    "    if (i > list_of_borders[0]) and (i < list_of_borders[1]):\n",
    "        final_list.append(i)\n",
    "print(list_numbers, \"Generated Numbers\")\n",
    "print(final_list, \"Final list after filtration\")"
   ]
  },
  {
   "cell_type": "markdown",
   "metadata": {},
   "source": [
    "<h4>Randomizer<h4>"
   ]
  },
  {
   "cell_type": "code",
   "execution_count": 16,
   "metadata": {},
   "outputs": [
    {
     "name": "stdout",
     "output_type": "stream",
     "text": [
      "1 7 8 0 0 8 9 9 6 6 9 5 3 0 1 7 4 2 9 1 Numbers that were generated\n",
      "95 The sum of the digits\n"
     ]
    }
   ],
   "source": [
    "import random\n",
    "import random\n",
    "\n",
    "numbers = [random.randint(0, 10) for i in range(20)]\n",
    "print(*numbers, \"Numbers that were generated\")\n",
    "print(sum(numbers), \"The sum of the digits\")\n"
   ]
  }
 ],
 "metadata": {
  "kernelspec": {
   "display_name": "Python 3 (ipykernel)",
   "language": "python",
   "name": "python3"
  },
  "language_info": {
   "codemirror_mode": {
    "name": "ipython",
    "version": 3
   },
   "file_extension": ".py",
   "mimetype": "text/x-python",
   "name": "python",
   "nbconvert_exporter": "python",
   "pygments_lexer": "ipython3",
   "version": "3.9.6"
  }
 },
 "nbformat": 4,
 "nbformat_minor": 4
}
